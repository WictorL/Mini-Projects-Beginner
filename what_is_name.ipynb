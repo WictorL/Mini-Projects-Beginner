{
 "cells": [
  {
   "cell_type": "code",
   "execution_count": null,
   "id": "b660b8b4-ef80-49a2-813b-678e13041ea1",
   "metadata": {},
   "outputs": [],
   "source": []
  }
 ],
 "metadata": {
  "kernelspec": {
   "display_name": "",
   "name": ""
  },
  "language_info": {
   "name": ""
  }
 },
 "nbformat": 4,
 "nbformat_minor": 5
}
